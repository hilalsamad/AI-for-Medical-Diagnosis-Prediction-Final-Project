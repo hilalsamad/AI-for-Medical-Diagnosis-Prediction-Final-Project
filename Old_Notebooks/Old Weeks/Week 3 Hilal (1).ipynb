{
  "cells": [
    {
      "cell_type": "markdown",
      "id": "9bbdec3c-3cc3-45a1-99f8-b60745c1616f",
      "metadata": {
        "id": "9bbdec3c-3cc3-45a1-99f8-b60745c1616f"
      },
      "source": [
        "# Project - AI for Medical Diagnosis and Prediction | Week #3\n",
        "\n",
        "In this notebook, we continue our analysis of the MIMIC-CXR dataset by training our first classifiers. The objective is to perform a benchmark analysis of several machine learning classifiers to detect the presence of pathologies in chest x-rays.\n",
        "\n",
        "We will use a subset of the **MIMIC-CXR dataset** **[1][2]**. The MIMIC Chest X-ray (MIMIC-CXR) Database v2.0.0 is a large, publicly available dataset of chest radiographs in DICOM format, accompanied by free-text radiology reports. It contains 377,110 images from 227,835 radiographic studies conducted at the Beth Israel Deaconess Medical Center in Boston, MA. The dataset has been de-identified in compliance with the US Health Insurance Portability and Accountability Act of 1996 (HIPAA) Safe Harbor requirements. All protected health information (PHI) has been removed. More details: [https://mimic.mit.edu/docs/iv/modules/cxr/](https://mimic.mit.edu/docs/iv/modules/cxr/)\n",
        "\n",
        "<div class=\"alert alert-block alert-info\">\n",
        "<b>Your tasks are the following:</b>  <br>\n",
        "- Create two subsets of the dataset: train and test <i>(Task 1)</i> <br>\n",
        "- Prepare a list of models and hyperparameters to investigate during optimization <i>(Task 2)</i> <br>\n",
        "- Implement the search using the cross-validation strategy of your choice <i>(Task 2*)</i> <br>\n",
        "- Add an evaluation of data augmentation strategies as part of your optimization process <i>(Task 3)</i> <br>\n",
        "- Run the benchmark analysis, save the results in a csv file using various appropriate metrics <i>(Task 4)</i> <br>\n",
        "- Save the best model on the validation set <i>(Task 5)</i> <br>\n",
        "- Compute the performance of this best model on the test set <i>(Task 5*)</i> <br>\n",
        "</div>\n",
        "\n",
        "**[1]** Johnson, A., Pollard, T., Mark, R., Berkowitz, S., & Horng, S. (2024). MIMIC-CXR Database (version 2.1.0). PhysioNet. [https://doi.org/10.13026/4jqj-jw95](https://doi.org/10.13026/4jqj-jw95).\n",
        "\n",
        "**[2]** Johnson, A.E.W., Pollard, T.J., Berkowitz, S.J. et al. MIMIC-CXR, a de-identified publicly available database of chest radiographs with free-text reports. Sci Data 6, 317 (2019). [https://doi.org/10.1038/s41597-019-0322-0](https://doi.org/10.1038/s41597-019-0322-0)"
      ]
    },
    {
      "cell_type": "code",
      "execution_count": 1,
      "id": "cab8c4eb",
      "metadata": {
        "colab": {
          "base_uri": "https://localhost:8080/"
        },
        "id": "cab8c4eb",
        "outputId": "82ff8ef6-45bd-4cd8-f53f-fe2e74cf40f0"
      },
      "outputs": [
        {
          "output_type": "stream",
          "name": "stdout",
          "text": [
            "\u001b[2K   \u001b[90m━━━━━━━━━━━━━━━━━━━━━━━━━━━━━━━━━━━━━━━━\u001b[0m \u001b[32m2.4/2.4 MB\u001b[0m \u001b[31m27.8 MB/s\u001b[0m eta \u001b[36m0:00:00\u001b[0m\n",
            "\u001b[2K   \u001b[90m━━━━━━━━━━━━━━━━━━━━━━━━━━━━━━━━━━━━━━━━\u001b[0m \u001b[32m52.6/52.6 MB\u001b[0m \u001b[31m13.0 MB/s\u001b[0m eta \u001b[36m0:00:00\u001b[0m\n",
            "\u001b[?25h"
          ]
        }
      ],
      "source": [
        "%pip install pydicom pynrrd -q\n",
        "%pip install -q SimpleITK numpy PyWavelets"
      ]
    },
    {
      "cell_type": "code",
      "execution_count": 2,
      "id": "ddf3c4c9-51fb-4ed7-a4d4-e58e3856fba5",
      "metadata": {
        "id": "ddf3c4c9-51fb-4ed7-a4d4-e58e3856fba5"
      },
      "outputs": [],
      "source": [
        "import pandas as pd\n",
        "import numpy as np\n",
        "import pydicom\n",
        "import nrrd\n",
        "\n",
        "import SimpleITK as sitk\n",
        "import numpy as np\n",
        "import pandas as pd\n",
        "import matplotlib.pyplot as plt\n",
        "import seaborn as sns\n",
        "\n",
        "from sklearn import model_selection\n",
        "import warnings\n",
        "\n",
        "warnings.filterwarnings('ignore')"
      ]
    },
    {
      "cell_type": "code",
      "execution_count": 3,
      "id": "25e8ee9c-6519-4b5f-8573-5e98e072307b",
      "metadata": {
        "id": "25e8ee9c-6519-4b5f-8573-5e98e072307b"
      },
      "outputs": [],
      "source": [
        "DATA_PATH = './MIMIC-CXR'"
      ]
    },
    {
      "cell_type": "code",
      "execution_count": 4,
      "id": "0wXcVGARr7aV",
      "metadata": {
        "id": "0wXcVGARr7aV",
        "colab": {
          "base_uri": "https://localhost:8080/"
        },
        "outputId": "21bd0215-b0f9-49ac-b2fa-86b3914c4243"
      },
      "outputs": [
        {
          "output_type": "stream",
          "name": "stdout",
          "text": [
            "  % Total    % Received % Xferd  Average Speed   Time    Time     Time  Current\n",
            "                                 Dload  Upload   Total   Spent    Left  Speed\n",
            "100 1256k  100 1256k    0     0   998k      0  0:00:01  0:00:01 --:--:--  998k\n",
            "  % Total    % Received % Xferd  Average Speed   Time    Time     Time  Current\n",
            "                                 Dload  Upload   Total   Spent    Left  Speed\n",
            "100 63894  100 63894    0     0  87401      0 --:--:-- --:--:-- --:--:-- 87406\n"
          ]
        }
      ],
      "source": [
        "!curl https://uni-bonn.sciebo.de/s/XbomHCb6yL6nYN4/download/radiomics.csv --output ./radiomics.csv\n",
        "!curl https://uni-bonn.sciebo.de/s/e7fKPxDYcs83J67/download/labels.csv --output ./labels.csv"
      ]
    },
    {
      "cell_type": "markdown",
      "id": "de11ac09-75d7-4762-b861-feb1b4d5da55",
      "metadata": {
        "id": "de11ac09-75d7-4762-b861-feb1b4d5da55"
      },
      "source": [
        "If you do not have the dataset anymore, please re-run the notebook from week 2. Here, we will use the csv file created during week 2: `radiomics.csv` which contains input features and target classes."
      ]
    },
    {
      "cell_type": "code",
      "execution_count": 5,
      "id": "df4b53ee-ebfc-4719-8181-64562d2d5791",
      "metadata": {
        "id": "df4b53ee-ebfc-4719-8181-64562d2d5791"
      },
      "outputs": [],
      "source": [
        "df = pd.read_csv(f'radiomics.csv')\n",
        "labels_df = pd.read_csv(f'labels.csv')"
      ]
    },
    {
      "cell_type": "code",
      "execution_count": 6,
      "id": "d141b62c-8538-44ed-90a1-9d169ef8ee85",
      "metadata": {
        "id": "d141b62c-8538-44ed-90a1-9d169ef8ee85",
        "colab": {
          "base_uri": "https://localhost:8080/",
          "height": 602
        },
        "outputId": "be9a89af-6cd5-42cb-e309-2657f0cf4896"
      },
      "outputs": [
        {
          "output_type": "execute_result",
          "data": {
            "text/plain": [
              "   original_firstorder_10Percentile  original_firstorder_90Percentile  \\\n",
              "0                         -1.278524                          0.855135   \n",
              "1                         -1.313175                          0.854954   \n",
              "2                         -1.128694                          0.825043   \n",
              "3                         -1.029863                          1.083006   \n",
              "4                         -0.821600                          1.128441   \n",
              "\n",
              "   original_firstorder_Energy  original_firstorder_Entropy  \\\n",
              "0                3.209739e+06                     0.847227   \n",
              "1                3.300384e+06                     0.839250   \n",
              "2                9.963108e+05                     0.868463   \n",
              "3                1.473029e+06                     0.993817   \n",
              "4                1.440104e+06                     0.999173   \n",
              "\n",
              "   original_firstorder_InterquartileRange  original_firstorder_Kurtosis  \\\n",
              "0                                1.163292                      2.215956   \n",
              "1                                1.167722                      2.261075   \n",
              "2                                1.128072                      2.452143   \n",
              "3                                1.266049                      1.926242   \n",
              "4                                1.235120                      1.865436   \n",
              "\n",
              "   original_firstorder_Maximum  original_firstorder_MeanAbsoluteDeviation  \\\n",
              "0                     1.373047                                   0.651548   \n",
              "1                     1.385948                                   0.657629   \n",
              "2                     1.815657                                   0.622337   \n",
              "3                     1.567053                                   0.647344   \n",
              "4                     1.651462                                   0.626043   \n",
              "\n",
              "   original_firstorder_Mean  original_firstorder_Median  ...  \\\n",
              "0                 -0.435326                   -0.660705  ...   \n",
              "1                 -0.451919                   -0.669476  ...   \n",
              "2                 -0.358779                   -0.610935  ...   \n",
              "3                 -0.021913                   -0.097315  ...   \n",
              "4                  0.091044                    0.045712  ...   \n",
              "\n",
              "   original_ngtdm_Coarseness  original_ngtdm_Complexity  \\\n",
              "0                   0.000056                   0.008836   \n",
              "1                   0.000060                   0.008285   \n",
              "2                   0.000126                   0.010801   \n",
              "3                   0.000052                   0.015052   \n",
              "4                   0.000040                   0.018150   \n",
              "\n",
              "   original_ngtdm_Contrast  original_ngtdm_Strength  subject_id  study_id  \\\n",
              "0                 0.001758                 0.000056    18000291  55388853   \n",
              "1                 0.001627                 0.000060    18000291  55388853   \n",
              "2                 0.002224                 0.000126    18000379  51062789   \n",
              "3                 0.003731                 0.000052    18000379  51568340   \n",
              "4                 0.004532                 0.000040    18000379  51817182   \n",
              "\n",
              "                                          dicom_path  \\\n",
              "0  files/p18/p18000291/s55388853/04564240-d4e9e69...   \n",
              "1  files/p18/p18000291/s55388853/ed82a88d-499bed8...   \n",
              "2  files/p18/p18000379/s51062789/eac2b8fa-9245fe4...   \n",
              "3  files/p18/p18000379/s51568340/3631ff3b-cfcb244...   \n",
              "4  files/p18/p18000379/s51817182/f6f04111-c3fde25...   \n",
              "\n",
              "                                       dicom_id  \\\n",
              "0  04564240-d4e9e69c-1dd70a83-14b463cd-b7614743   \n",
              "1  ed82a88d-499bed8a-de7539b2-417328ad-8aac20ee   \n",
              "2  eac2b8fa-9245fe41-76c8951a-fe495dc0-a705cb9b   \n",
              "3  3631ff3b-cfcb2447-6c718bec-2b6abe0c-9a3b4ecb   \n",
              "4  f6f04111-c3fde252-ab50a901-dda6e366-b227f9f2   \n",
              "\n",
              "                  labels_encoded  pathology  \n",
              "0  [0 0 0 0 0 0 0 0 0 1 0 0 0 0]          0  \n",
              "1  [0 0 0 0 0 0 0 0 0 1 0 0 0 0]          0  \n",
              "2  [0 0 0 0 0 0 0 0 0 1 0 0 0 0]          0  \n",
              "3  [0 0 0 0 0 0 0 0 0 1 0 0 0 0]          0  \n",
              "4  [1 0 0 0 0 0 0 0 0 0 0 0 0 1]          1  \n",
              "\n",
              "[5 rows x 99 columns]"
            ],
            "text/html": [
              "\n",
              "  <div id=\"df-e32e09c2-eb25-450c-8371-9889f35d1a1b\" class=\"colab-df-container\">\n",
              "    <div>\n",
              "<style scoped>\n",
              "    .dataframe tbody tr th:only-of-type {\n",
              "        vertical-align: middle;\n",
              "    }\n",
              "\n",
              "    .dataframe tbody tr th {\n",
              "        vertical-align: top;\n",
              "    }\n",
              "\n",
              "    .dataframe thead th {\n",
              "        text-align: right;\n",
              "    }\n",
              "</style>\n",
              "<table border=\"1\" class=\"dataframe\">\n",
              "  <thead>\n",
              "    <tr style=\"text-align: right;\">\n",
              "      <th></th>\n",
              "      <th>original_firstorder_10Percentile</th>\n",
              "      <th>original_firstorder_90Percentile</th>\n",
              "      <th>original_firstorder_Energy</th>\n",
              "      <th>original_firstorder_Entropy</th>\n",
              "      <th>original_firstorder_InterquartileRange</th>\n",
              "      <th>original_firstorder_Kurtosis</th>\n",
              "      <th>original_firstorder_Maximum</th>\n",
              "      <th>original_firstorder_MeanAbsoluteDeviation</th>\n",
              "      <th>original_firstorder_Mean</th>\n",
              "      <th>original_firstorder_Median</th>\n",
              "      <th>...</th>\n",
              "      <th>original_ngtdm_Coarseness</th>\n",
              "      <th>original_ngtdm_Complexity</th>\n",
              "      <th>original_ngtdm_Contrast</th>\n",
              "      <th>original_ngtdm_Strength</th>\n",
              "      <th>subject_id</th>\n",
              "      <th>study_id</th>\n",
              "      <th>dicom_path</th>\n",
              "      <th>dicom_id</th>\n",
              "      <th>labels_encoded</th>\n",
              "      <th>pathology</th>\n",
              "    </tr>\n",
              "  </thead>\n",
              "  <tbody>\n",
              "    <tr>\n",
              "      <th>0</th>\n",
              "      <td>-1.278524</td>\n",
              "      <td>0.855135</td>\n",
              "      <td>3.209739e+06</td>\n",
              "      <td>0.847227</td>\n",
              "      <td>1.163292</td>\n",
              "      <td>2.215956</td>\n",
              "      <td>1.373047</td>\n",
              "      <td>0.651548</td>\n",
              "      <td>-0.435326</td>\n",
              "      <td>-0.660705</td>\n",
              "      <td>...</td>\n",
              "      <td>0.000056</td>\n",
              "      <td>0.008836</td>\n",
              "      <td>0.001758</td>\n",
              "      <td>0.000056</td>\n",
              "      <td>18000291</td>\n",
              "      <td>55388853</td>\n",
              "      <td>files/p18/p18000291/s55388853/04564240-d4e9e69...</td>\n",
              "      <td>04564240-d4e9e69c-1dd70a83-14b463cd-b7614743</td>\n",
              "      <td>[0 0 0 0 0 0 0 0 0 1 0 0 0 0]</td>\n",
              "      <td>0</td>\n",
              "    </tr>\n",
              "    <tr>\n",
              "      <th>1</th>\n",
              "      <td>-1.313175</td>\n",
              "      <td>0.854954</td>\n",
              "      <td>3.300384e+06</td>\n",
              "      <td>0.839250</td>\n",
              "      <td>1.167722</td>\n",
              "      <td>2.261075</td>\n",
              "      <td>1.385948</td>\n",
              "      <td>0.657629</td>\n",
              "      <td>-0.451919</td>\n",
              "      <td>-0.669476</td>\n",
              "      <td>...</td>\n",
              "      <td>0.000060</td>\n",
              "      <td>0.008285</td>\n",
              "      <td>0.001627</td>\n",
              "      <td>0.000060</td>\n",
              "      <td>18000291</td>\n",
              "      <td>55388853</td>\n",
              "      <td>files/p18/p18000291/s55388853/ed82a88d-499bed8...</td>\n",
              "      <td>ed82a88d-499bed8a-de7539b2-417328ad-8aac20ee</td>\n",
              "      <td>[0 0 0 0 0 0 0 0 0 1 0 0 0 0]</td>\n",
              "      <td>0</td>\n",
              "    </tr>\n",
              "    <tr>\n",
              "      <th>2</th>\n",
              "      <td>-1.128694</td>\n",
              "      <td>0.825043</td>\n",
              "      <td>9.963108e+05</td>\n",
              "      <td>0.868463</td>\n",
              "      <td>1.128072</td>\n",
              "      <td>2.452143</td>\n",
              "      <td>1.815657</td>\n",
              "      <td>0.622337</td>\n",
              "      <td>-0.358779</td>\n",
              "      <td>-0.610935</td>\n",
              "      <td>...</td>\n",
              "      <td>0.000126</td>\n",
              "      <td>0.010801</td>\n",
              "      <td>0.002224</td>\n",
              "      <td>0.000126</td>\n",
              "      <td>18000379</td>\n",
              "      <td>51062789</td>\n",
              "      <td>files/p18/p18000379/s51062789/eac2b8fa-9245fe4...</td>\n",
              "      <td>eac2b8fa-9245fe41-76c8951a-fe495dc0-a705cb9b</td>\n",
              "      <td>[0 0 0 0 0 0 0 0 0 1 0 0 0 0]</td>\n",
              "      <td>0</td>\n",
              "    </tr>\n",
              "    <tr>\n",
              "      <th>3</th>\n",
              "      <td>-1.029863</td>\n",
              "      <td>1.083006</td>\n",
              "      <td>1.473029e+06</td>\n",
              "      <td>0.993817</td>\n",
              "      <td>1.266049</td>\n",
              "      <td>1.926242</td>\n",
              "      <td>1.567053</td>\n",
              "      <td>0.647344</td>\n",
              "      <td>-0.021913</td>\n",
              "      <td>-0.097315</td>\n",
              "      <td>...</td>\n",
              "      <td>0.000052</td>\n",
              "      <td>0.015052</td>\n",
              "      <td>0.003731</td>\n",
              "      <td>0.000052</td>\n",
              "      <td>18000379</td>\n",
              "      <td>51568340</td>\n",
              "      <td>files/p18/p18000379/s51568340/3631ff3b-cfcb244...</td>\n",
              "      <td>3631ff3b-cfcb2447-6c718bec-2b6abe0c-9a3b4ecb</td>\n",
              "      <td>[0 0 0 0 0 0 0 0 0 1 0 0 0 0]</td>\n",
              "      <td>0</td>\n",
              "    </tr>\n",
              "    <tr>\n",
              "      <th>4</th>\n",
              "      <td>-0.821600</td>\n",
              "      <td>1.128441</td>\n",
              "      <td>1.440104e+06</td>\n",
              "      <td>0.999173</td>\n",
              "      <td>1.235120</td>\n",
              "      <td>1.865436</td>\n",
              "      <td>1.651462</td>\n",
              "      <td>0.626043</td>\n",
              "      <td>0.091044</td>\n",
              "      <td>0.045712</td>\n",
              "      <td>...</td>\n",
              "      <td>0.000040</td>\n",
              "      <td>0.018150</td>\n",
              "      <td>0.004532</td>\n",
              "      <td>0.000040</td>\n",
              "      <td>18000379</td>\n",
              "      <td>51817182</td>\n",
              "      <td>files/p18/p18000379/s51817182/f6f04111-c3fde25...</td>\n",
              "      <td>f6f04111-c3fde252-ab50a901-dda6e366-b227f9f2</td>\n",
              "      <td>[1 0 0 0 0 0 0 0 0 0 0 0 0 1]</td>\n",
              "      <td>1</td>\n",
              "    </tr>\n",
              "  </tbody>\n",
              "</table>\n",
              "<p>5 rows × 99 columns</p>\n",
              "</div>\n",
              "    <div class=\"colab-df-buttons\">\n",
              "\n",
              "  <div class=\"colab-df-container\">\n",
              "    <button class=\"colab-df-convert\" onclick=\"convertToInteractive('df-e32e09c2-eb25-450c-8371-9889f35d1a1b')\"\n",
              "            title=\"Convert this dataframe to an interactive table.\"\n",
              "            style=\"display:none;\">\n",
              "\n",
              "  <svg xmlns=\"http://www.w3.org/2000/svg\" height=\"24px\" viewBox=\"0 -960 960 960\">\n",
              "    <path d=\"M120-120v-720h720v720H120Zm60-500h600v-160H180v160Zm220 220h160v-160H400v160Zm0 220h160v-160H400v160ZM180-400h160v-160H180v160Zm440 0h160v-160H620v160ZM180-180h160v-160H180v160Zm440 0h160v-160H620v160Z\"/>\n",
              "  </svg>\n",
              "    </button>\n",
              "\n",
              "  <style>\n",
              "    .colab-df-container {\n",
              "      display:flex;\n",
              "      gap: 12px;\n",
              "    }\n",
              "\n",
              "    .colab-df-convert {\n",
              "      background-color: #E8F0FE;\n",
              "      border: none;\n",
              "      border-radius: 50%;\n",
              "      cursor: pointer;\n",
              "      display: none;\n",
              "      fill: #1967D2;\n",
              "      height: 32px;\n",
              "      padding: 0 0 0 0;\n",
              "      width: 32px;\n",
              "    }\n",
              "\n",
              "    .colab-df-convert:hover {\n",
              "      background-color: #E2EBFA;\n",
              "      box-shadow: 0px 1px 2px rgba(60, 64, 67, 0.3), 0px 1px 3px 1px rgba(60, 64, 67, 0.15);\n",
              "      fill: #174EA6;\n",
              "    }\n",
              "\n",
              "    .colab-df-buttons div {\n",
              "      margin-bottom: 4px;\n",
              "    }\n",
              "\n",
              "    [theme=dark] .colab-df-convert {\n",
              "      background-color: #3B4455;\n",
              "      fill: #D2E3FC;\n",
              "    }\n",
              "\n",
              "    [theme=dark] .colab-df-convert:hover {\n",
              "      background-color: #434B5C;\n",
              "      box-shadow: 0px 1px 3px 1px rgba(0, 0, 0, 0.15);\n",
              "      filter: drop-shadow(0px 1px 2px rgba(0, 0, 0, 0.3));\n",
              "      fill: #FFFFFF;\n",
              "    }\n",
              "  </style>\n",
              "\n",
              "    <script>\n",
              "      const buttonEl =\n",
              "        document.querySelector('#df-e32e09c2-eb25-450c-8371-9889f35d1a1b button.colab-df-convert');\n",
              "      buttonEl.style.display =\n",
              "        google.colab.kernel.accessAllowed ? 'block' : 'none';\n",
              "\n",
              "      async function convertToInteractive(key) {\n",
              "        const element = document.querySelector('#df-e32e09c2-eb25-450c-8371-9889f35d1a1b');\n",
              "        const dataTable =\n",
              "          await google.colab.kernel.invokeFunction('convertToInteractive',\n",
              "                                                    [key], {});\n",
              "        if (!dataTable) return;\n",
              "\n",
              "        const docLinkHtml = 'Like what you see? Visit the ' +\n",
              "          '<a target=\"_blank\" href=https://colab.research.google.com/notebooks/data_table.ipynb>data table notebook</a>'\n",
              "          + ' to learn more about interactive tables.';\n",
              "        element.innerHTML = '';\n",
              "        dataTable['output_type'] = 'display_data';\n",
              "        await google.colab.output.renderOutput(dataTable, element);\n",
              "        const docLink = document.createElement('div');\n",
              "        docLink.innerHTML = docLinkHtml;\n",
              "        element.appendChild(docLink);\n",
              "      }\n",
              "    </script>\n",
              "  </div>\n",
              "\n",
              "\n",
              "    <div id=\"df-1adfb97b-c654-4b90-aad2-f2b3ec2dd2ec\">\n",
              "      <button class=\"colab-df-quickchart\" onclick=\"quickchart('df-1adfb97b-c654-4b90-aad2-f2b3ec2dd2ec')\"\n",
              "                title=\"Suggest charts\"\n",
              "                style=\"display:none;\">\n",
              "\n",
              "<svg xmlns=\"http://www.w3.org/2000/svg\" height=\"24px\"viewBox=\"0 0 24 24\"\n",
              "     width=\"24px\">\n",
              "    <g>\n",
              "        <path d=\"M19 3H5c-1.1 0-2 .9-2 2v14c0 1.1.9 2 2 2h14c1.1 0 2-.9 2-2V5c0-1.1-.9-2-2-2zM9 17H7v-7h2v7zm4 0h-2V7h2v10zm4 0h-2v-4h2v4z\"/>\n",
              "    </g>\n",
              "</svg>\n",
              "      </button>\n",
              "\n",
              "<style>\n",
              "  .colab-df-quickchart {\n",
              "      --bg-color: #E8F0FE;\n",
              "      --fill-color: #1967D2;\n",
              "      --hover-bg-color: #E2EBFA;\n",
              "      --hover-fill-color: #174EA6;\n",
              "      --disabled-fill-color: #AAA;\n",
              "      --disabled-bg-color: #DDD;\n",
              "  }\n",
              "\n",
              "  [theme=dark] .colab-df-quickchart {\n",
              "      --bg-color: #3B4455;\n",
              "      --fill-color: #D2E3FC;\n",
              "      --hover-bg-color: #434B5C;\n",
              "      --hover-fill-color: #FFFFFF;\n",
              "      --disabled-bg-color: #3B4455;\n",
              "      --disabled-fill-color: #666;\n",
              "  }\n",
              "\n",
              "  .colab-df-quickchart {\n",
              "    background-color: var(--bg-color);\n",
              "    border: none;\n",
              "    border-radius: 50%;\n",
              "    cursor: pointer;\n",
              "    display: none;\n",
              "    fill: var(--fill-color);\n",
              "    height: 32px;\n",
              "    padding: 0;\n",
              "    width: 32px;\n",
              "  }\n",
              "\n",
              "  .colab-df-quickchart:hover {\n",
              "    background-color: var(--hover-bg-color);\n",
              "    box-shadow: 0 1px 2px rgba(60, 64, 67, 0.3), 0 1px 3px 1px rgba(60, 64, 67, 0.15);\n",
              "    fill: var(--button-hover-fill-color);\n",
              "  }\n",
              "\n",
              "  .colab-df-quickchart-complete:disabled,\n",
              "  .colab-df-quickchart-complete:disabled:hover {\n",
              "    background-color: var(--disabled-bg-color);\n",
              "    fill: var(--disabled-fill-color);\n",
              "    box-shadow: none;\n",
              "  }\n",
              "\n",
              "  .colab-df-spinner {\n",
              "    border: 2px solid var(--fill-color);\n",
              "    border-color: transparent;\n",
              "    border-bottom-color: var(--fill-color);\n",
              "    animation:\n",
              "      spin 1s steps(1) infinite;\n",
              "  }\n",
              "\n",
              "  @keyframes spin {\n",
              "    0% {\n",
              "      border-color: transparent;\n",
              "      border-bottom-color: var(--fill-color);\n",
              "      border-left-color: var(--fill-color);\n",
              "    }\n",
              "    20% {\n",
              "      border-color: transparent;\n",
              "      border-left-color: var(--fill-color);\n",
              "      border-top-color: var(--fill-color);\n",
              "    }\n",
              "    30% {\n",
              "      border-color: transparent;\n",
              "      border-left-color: var(--fill-color);\n",
              "      border-top-color: var(--fill-color);\n",
              "      border-right-color: var(--fill-color);\n",
              "    }\n",
              "    40% {\n",
              "      border-color: transparent;\n",
              "      border-right-color: var(--fill-color);\n",
              "      border-top-color: var(--fill-color);\n",
              "    }\n",
              "    60% {\n",
              "      border-color: transparent;\n",
              "      border-right-color: var(--fill-color);\n",
              "    }\n",
              "    80% {\n",
              "      border-color: transparent;\n",
              "      border-right-color: var(--fill-color);\n",
              "      border-bottom-color: var(--fill-color);\n",
              "    }\n",
              "    90% {\n",
              "      border-color: transparent;\n",
              "      border-bottom-color: var(--fill-color);\n",
              "    }\n",
              "  }\n",
              "</style>\n",
              "\n",
              "      <script>\n",
              "        async function quickchart(key) {\n",
              "          const quickchartButtonEl =\n",
              "            document.querySelector('#' + key + ' button');\n",
              "          quickchartButtonEl.disabled = true;  // To prevent multiple clicks.\n",
              "          quickchartButtonEl.classList.add('colab-df-spinner');\n",
              "          try {\n",
              "            const charts = await google.colab.kernel.invokeFunction(\n",
              "                'suggestCharts', [key], {});\n",
              "          } catch (error) {\n",
              "            console.error('Error during call to suggestCharts:', error);\n",
              "          }\n",
              "          quickchartButtonEl.classList.remove('colab-df-spinner');\n",
              "          quickchartButtonEl.classList.add('colab-df-quickchart-complete');\n",
              "        }\n",
              "        (() => {\n",
              "          let quickchartButtonEl =\n",
              "            document.querySelector('#df-1adfb97b-c654-4b90-aad2-f2b3ec2dd2ec button');\n",
              "          quickchartButtonEl.style.display =\n",
              "            google.colab.kernel.accessAllowed ? 'block' : 'none';\n",
              "        })();\n",
              "      </script>\n",
              "    </div>\n",
              "\n",
              "    </div>\n",
              "  </div>\n"
            ],
            "application/vnd.google.colaboratory.intrinsic+json": {
              "type": "dataframe",
              "variable_name": "df"
            }
          },
          "metadata": {},
          "execution_count": 6
        }
      ],
      "source": [
        "df.head()"
      ]
    },
    {
      "cell_type": "markdown",
      "id": "b4d234c0-47ff-42b0-9512-18007fd2a813",
      "metadata": {
        "id": "b4d234c0-47ff-42b0-9512-18007fd2a813"
      },
      "source": [
        "## Task 1 - Dataset split\n",
        "* Get the list of **UNIQUE** patients ;\n",
        "* Split the list into train and test patients ;\n",
        "* Extract two datasets: `train_df` and `test_df`"
      ]
    },
    {
      "cell_type": "code",
      "execution_count": 7,
      "id": "5fa082a5-7164-4ed5-bef1-d54daf47b7ce",
      "metadata": {
        "id": "5fa082a5-7164-4ed5-bef1-d54daf47b7ce"
      },
      "outputs": [],
      "source": [
        "patient_list =df['subject_id'].unique()"
      ]
    },
    {
      "cell_type": "code",
      "execution_count": 8,
      "id": "e36c213e-82ef-4f5b-a17a-851753302b00",
      "metadata": {
        "id": "e36c213e-82ef-4f5b-a17a-851753302b00"
      },
      "outputs": [],
      "source": [
        "from sklearn.model_selection import train_test_split\n",
        "\n",
        "patient_train, patient_test = train_test_split(patient_list, test_size=0.2, random_state=42)"
      ]
    },
    {
      "cell_type": "code",
      "execution_count": 9,
      "id": "624f7852-22a5-49d1-aa59-edeab1cbd150",
      "metadata": {
        "id": "624f7852-22a5-49d1-aa59-edeab1cbd150"
      },
      "outputs": [],
      "source": [
        "train_df = df.loc[df['subject_id'].isin(patient_train)]\n",
        "test_df = df.loc[df['subject_id'].isin(patient_test)]\n",
        "\n",
        "train_labels_df = labels_df.loc[labels_df['subject_id'].isin(patient_train)]\n",
        "test_labels_df = labels_df.loc[labels_df['subject_id'].isin(patient_test)]\n",
        "\n",
        "# Save labels for future use\n",
        "train_labels_df.to_csv('train_labels.csv', index=False)\n",
        "test_labels_df.to_csv('test_labels.csv', index=False)"
      ]
    },
    {
      "cell_type": "markdown",
      "id": "bb6b6f79-046d-47a0-a6d6-ca70e0621706",
      "metadata": {
        "id": "bb6b6f79-046d-47a0-a6d6-ca70e0621706"
      },
      "source": [
        "<div class=\"alert alert-block alert-info\">\n",
        "Visualize the repartition of classes across train and test set. Is there any imbalance?\n",
        "</div>"
      ]
    },
    {
      "cell_type": "code",
      "execution_count": 10,
      "id": "4b9e4955-59fa-4fb5-bc5d-99d7ea646f12",
      "metadata": {
        "id": "4b9e4955-59fa-4fb5-bc5d-99d7ea646f12",
        "colab": {
          "base_uri": "https://localhost:8080/",
          "height": 178
        },
        "outputId": "f14fd7bd-c3eb-4389-be1b-570a9c6c310f"
      },
      "outputs": [
        {
          "output_type": "execute_result",
          "data": {
            "text/plain": [
              "pathology\n",
              "0    275\n",
              "1    272\n",
              "Name: count, dtype: int64"
            ],
            "text/html": [
              "<div>\n",
              "<style scoped>\n",
              "    .dataframe tbody tr th:only-of-type {\n",
              "        vertical-align: middle;\n",
              "    }\n",
              "\n",
              "    .dataframe tbody tr th {\n",
              "        vertical-align: top;\n",
              "    }\n",
              "\n",
              "    .dataframe thead th {\n",
              "        text-align: right;\n",
              "    }\n",
              "</style>\n",
              "<table border=\"1\" class=\"dataframe\">\n",
              "  <thead>\n",
              "    <tr style=\"text-align: right;\">\n",
              "      <th></th>\n",
              "      <th>count</th>\n",
              "    </tr>\n",
              "    <tr>\n",
              "      <th>pathology</th>\n",
              "      <th></th>\n",
              "    </tr>\n",
              "  </thead>\n",
              "  <tbody>\n",
              "    <tr>\n",
              "      <th>0</th>\n",
              "      <td>275</td>\n",
              "    </tr>\n",
              "    <tr>\n",
              "      <th>1</th>\n",
              "      <td>272</td>\n",
              "    </tr>\n",
              "  </tbody>\n",
              "</table>\n",
              "</div><br><label><b>dtype:</b> int64</label>"
            ]
          },
          "metadata": {},
          "execution_count": 10
        }
      ],
      "source": [
        "train_df['pathology'].value_counts()"
      ]
    },
    {
      "cell_type": "code",
      "execution_count": 11,
      "id": "36d057cc-340c-4902-a1e4-7f48ce320d11",
      "metadata": {
        "id": "36d057cc-340c-4902-a1e4-7f48ce320d11",
        "colab": {
          "base_uri": "https://localhost:8080/",
          "height": 178
        },
        "outputId": "6df116f9-6409-4afa-931d-df5a61350132"
      },
      "outputs": [
        {
          "output_type": "execute_result",
          "data": {
            "text/plain": [
              "pathology\n",
              "1    68\n",
              "0    54\n",
              "Name: count, dtype: int64"
            ],
            "text/html": [
              "<div>\n",
              "<style scoped>\n",
              "    .dataframe tbody tr th:only-of-type {\n",
              "        vertical-align: middle;\n",
              "    }\n",
              "\n",
              "    .dataframe tbody tr th {\n",
              "        vertical-align: top;\n",
              "    }\n",
              "\n",
              "    .dataframe thead th {\n",
              "        text-align: right;\n",
              "    }\n",
              "</style>\n",
              "<table border=\"1\" class=\"dataframe\">\n",
              "  <thead>\n",
              "    <tr style=\"text-align: right;\">\n",
              "      <th></th>\n",
              "      <th>count</th>\n",
              "    </tr>\n",
              "    <tr>\n",
              "      <th>pathology</th>\n",
              "      <th></th>\n",
              "    </tr>\n",
              "  </thead>\n",
              "  <tbody>\n",
              "    <tr>\n",
              "      <th>1</th>\n",
              "      <td>68</td>\n",
              "    </tr>\n",
              "    <tr>\n",
              "      <th>0</th>\n",
              "      <td>54</td>\n",
              "    </tr>\n",
              "  </tbody>\n",
              "</table>\n",
              "</div><br><label><b>dtype:</b> int64</label>"
            ]
          },
          "metadata": {},
          "execution_count": 11
        }
      ],
      "source": [
        "test_df['pathology'].value_counts()"
      ]
    },
    {
      "cell_type": "code",
      "execution_count": 13,
      "id": "e0fcc4b3-4700-4f5d-90b3-ff07c2609732",
      "metadata": {
        "id": "e0fcc4b3-4700-4f5d-90b3-ff07c2609732"
      },
      "outputs": [],
      "source": [
        "X_train = train_df.drop(['subject_id', 'study_id', 'dicom_id', 'dicom_path', 'labels_encoded', 'pathology'], axis=1)\n",
        "y_train = train_df['pathology']\n",
        "\n",
        "X_test = test_df.drop(['subject_id', 'study_id', 'dicom_id', 'dicom_path', 'labels_encoded', 'pathology'], axis=1)\n",
        "y_test = test_df['pathology']"
      ]
    },
    {
      "cell_type": "markdown",
      "id": "e92203af-9ea4-4361-832e-aa2e6d1c209d",
      "metadata": {
        "id": "e92203af-9ea4-4361-832e-aa2e6d1c209d"
      },
      "source": [
        "## Task 2 - Models and hyperparameters\n",
        "\n",
        "* Define the list of models and hyperparameters you want to benchmark ;\n",
        "* Implement the cross-validation strategy of your choice ;\n",
        "* Create the searcher and run the benchmark analysis."
      ]
    },
    {
      "cell_type": "code",
      "execution_count": 14,
      "id": "148d9bc6-ed42-4c41-adf2-1d5f688062d8",
      "metadata": {
        "id": "148d9bc6-ed42-4c41-adf2-1d5f688062d8"
      },
      "outputs": [],
      "source": [
        "from sklearn.linear_model import LogisticRegression\n",
        "from sklearn.ensemble import RandomForestClassifier\n",
        "from sklearn.neighbors import KNeighborsClassifier\n",
        "from sklearn.svm import SVC\n",
        "from sklearn.neural_network import MLPClassifier\n",
        "from sklearn.model_selection import StratifiedKFold, RandomizedSearchCV\n",
        "import joblib\n",
        "from imblearn.pipeline import Pipeline as ImbPipeline\n",
        "from imblearn.over_sampling import SMOTE\n",
        "from sklearn.preprocessing import StandardScaler\n",
        "\n",
        "# Define models and hyperparameter grids\n",
        "models = {\n",
        "    'Logistic Regression': (LogisticRegression(max_iter=1000, random_state=42), {\n",
        "        'classifier__C': [0.01, 1, 10],\n",
        "        'classifier__solver': ['lbfgs', 'liblinear']\n",
        "    }),\n",
        "    'Random Forest': (RandomForestClassifier(random_state=42), {\n",
        "        'classifier__n_estimators': [10, 30, 50],\n",
        "        'classifier__max_depth': [None, 5, 10]\n",
        "    }),\n",
        "    'Nearest Neighbors': (KNeighborsClassifier(), {\n",
        "        'classifier__n_neighbors': [5, 10, 20]\n",
        "    }),\n",
        "    #'MLP': (MLPClassifier(), {\n",
        "    #    'classifier__hidden_layer_sizes':[100, 50, 15],\n",
        "    #    'classifier__alpha':[0.01, 0.1, 0.5, 1]\n",
        "    #})\n",
        "}\n",
        "\n",
        "# Use StratifiedKFold for cross-validation to maintain class proportions\n",
        "cv = StratifiedKFold(n_splits=3, shuffle=True, random_state=42)\n",
        "\n",
        "results = []\n",
        "results_smote = []"
      ]
    },
    {
      "cell_type": "code",
      "execution_count": 15,
      "id": "988b793e-26f1-40d5-89d5-e6ffa8d53cd7",
      "metadata": {
        "id": "988b793e-26f1-40d5-89d5-e6ffa8d53cd7"
      },
      "outputs": [],
      "source": [
        "# Run benchmark with hyperparameter tuning (without SMOTE)\n",
        "for name, (model, param_dist) in models.items():\n",
        "    # Create a pipeline with StandardScaler and the classifier.\n",
        "    pipeline = ImbPipeline([\n",
        "        ('scaler', StandardScaler()),\n",
        "        ('classifier', model)\n",
        "    ])\n",
        "\n",
        "    search = RandomizedSearchCV(pipeline, param_distributions=param_dist, n_iter=10,\n",
        "                                scoring='recall', cv=cv, random_state=42, n_jobs=-1, error_score='raise')\n",
        "\n",
        "    search.fit(X_train, y_train)\n",
        "    best_model = search.best_estimator_\n",
        "    best_score = search.best_score_\n",
        "    std_dev = search.cv_results_['std_test_score'][search.best_index_]\n",
        "\n",
        "    # Save best model into pkl format\n",
        "    joblib.dump(best_model, f'best_model_{name.replace(\" \", \"_\").lower()}.pkl')\n",
        "\n",
        "    results.append({\n",
        "        'Model': name,\n",
        "        'Mean score': best_score,\n",
        "        'Std Dev': std_dev\n",
        "    })"
      ]
    },
    {
      "cell_type": "markdown",
      "id": "88b3fade-2b7e-4c79-bece-8f358f9396ef",
      "metadata": {
        "id": "88b3fade-2b7e-4c79-bece-8f358f9396ef"
      },
      "source": [
        "## Task 3 - Data augmentation\n",
        "\n",
        "* Add a data augmentation step in the pipeline, for instance using SMOTE ;\n",
        "* Run the benchmark analysis using the data augmentation step."
      ]
    },
    {
      "cell_type": "code",
      "execution_count": 16,
      "id": "3d1f1971-75f8-428c-8d07-049be4224332",
      "metadata": {
        "id": "3d1f1971-75f8-428c-8d07-049be4224332"
      },
      "outputs": [],
      "source": [
        "# Run benchmark with hyperparameter tuning, scaling, and SMOTE\n",
        "for name, (model, param_dist) in models.items():\n",
        "    # Create a full pipeline with StandardScaler, SMOTE, and the classifier.\n",
        "    # This is the correct order of operations.\n",
        "    pipeline = ImbPipeline([\n",
        "        ('scaler', StandardScaler()),\n",
        "        ('smote', SMOTE(random_state=42)),\n",
        "        ('classifier', model)\n",
        "    ])\n",
        "\n",
        "    search = RandomizedSearchCV(pipeline, param_distributions=param_dist, n_iter=10,\n",
        "                                scoring='recall', cv=cv, random_state=42, n_jobs=-1, error_score='raise')\n",
        "\n",
        "    search.fit(X_train, y_train)\n",
        "\n",
        "    # search.best_estimator_ is the entire tuned pipeline\n",
        "    best_pipeline = search.best_estimator_\n",
        "    best_score = search.best_score_\n",
        "    std_dev = search.cv_results_['std_test_score'][search.best_index_]\n",
        "\n",
        "    # Save the best pipeline (scaler + smote + model)\n",
        "    joblib.dump(best_pipeline, f'best_model_smote_{name.replace(\" \", \"_\").lower()}.pkl')\n",
        "\n",
        "    results.append({\n",
        "        'Model': name + ' SMOTE',\n",
        "        'Mean score': best_score,\n",
        "        'Std Dev': std_dev\n",
        "    })"
      ]
    },
    {
      "cell_type": "markdown",
      "id": "c3ec92d5-0427-4760-ac32-8e9eea18926c",
      "metadata": {
        "id": "c3ec92d5-0427-4760-ac32-8e9eea18926c"
      },
      "source": [
        "## Task 4 - Model selection\n",
        "\n",
        "* Analyse the results provided by the benchmark analysis and select the best model ;\n",
        "* Visualize different scores and comment."
      ]
    },
    {
      "cell_type": "code",
      "execution_count": 18,
      "id": "5d817d76-0235-4cbe-a97d-96fd70db4c1a",
      "metadata": {
        "id": "5d817d76-0235-4cbe-a97d-96fd70db4c1a",
        "colab": {
          "base_uri": "https://localhost:8080/"
        },
        "outputId": "a6ebccb6-70d8-4389-d3e2-b24650279a0b"
      },
      "outputs": [
        {
          "output_type": "stream",
          "name": "stdout",
          "text": [
            "Benchmark Results:\n",
            "                       Model  Mean score   Std Dev\n",
            "4        Random Forest SMOTE    0.761131  0.026594\n",
            "1              Random Forest    0.750020  0.018367\n",
            "0        Logistic Regression    0.709605  0.054569\n",
            "3  Logistic Regression SMOTE    0.709565  0.058331\n",
            "5    Nearest Neighbors SMOTE    0.665527  0.060616\n",
            "2          Nearest Neighbors    0.661864  0.065650\n"
          ]
        }
      ],
      "source": [
        "# Create results table\n",
        "df_results = pd.DataFrame(results).sort_values(by='Mean score', ascending=False)\n",
        "\n",
        "print(\"Benchmark Results:\")\n",
        "print(df_results)\n",
        "\n",
        "# Optionally: save to CSV\n",
        "df_results.to_csv('model_benchmark_results_smote.csv', index=False)"
      ]
    },
    {
      "cell_type": "markdown",
      "id": "ef6e9d0b-ed1a-4eb7-bb1a-babc81c402c1",
      "metadata": {
        "id": "ef6e9d0b-ed1a-4eb7-bb1a-babc81c402c1"
      },
      "source": [
        "<div class=\"alert alert-block alert-info\">\n",
        "Which model is the best performing one? <br>\n",
        "Is there any benefits of data augmentation? <br>\n",
        "Observe the metrics and comment on the expected behavior of the model for clinical practice.\n",
        "</div>"
      ]
    },
    {
      "cell_type": "markdown",
      "source": [
        "The best-performing model is Random Forest with SMOTE.\n",
        "\n",
        "It achieved the highest mean score of 0.761131. This means it has the best recall out of all the models tested, correctly identifying the highest percentage of positive cases during cross-validation. The standard Random Forest model was a close second, but the addition of SMOTE provided a slight performance boost."
      ],
      "metadata": {
        "id": "_ve8YMbAyhHK"
      },
      "id": "_ve8YMbAyhHK"
    },
    {
      "cell_type": "markdown",
      "source": [
        "Benefits of Data Augmentation (SMOTE):\n",
        "Modest benefit to using SMOTE, but it depends on the model.\n",
        "\n",
        "For Random Forest and Nearest Neighbors: SMOTE improved the recall score. The effect was most noticeable on the best model, Random Forest, pushing its score from 0.750 to 0.761.\n",
        "\n",
        "For Logistic Regression: SMOTE had a negligible (and slightly negative) effect, with the score barely changing.\n",
        "\n",
        "This suggests that data augmentation is most helpful for the non-linear models (Random Forest and KNN) in this dataset. For the best model, the benefit is clear, even if it's small. It successfully helped the model learn to identify more positive cases."
      ],
      "metadata": {
        "id": "hVpfnNy0yuOf"
      },
      "id": "hVpfnNy0yuOf"
    },
    {
      "cell_type": "markdown",
      "source": [
        "Clinical Practice Interpretation\n",
        "\n",
        "A recall score of 0.761 for the best model (Random Forest with SMOTE) means that when used in a clinical setting, it is expected to correctly identify 76% of all patients who genuinely have the pathology.\n",
        "\n",
        "As a Screening Tool: The model shows promise as a first-pass screening or assistance tool. It can successfully flag over three-quarters of positive cases, helping doctors prioritize patients or drawing attention to potentially overlooked signs in a chest X-ray.\n",
        "\n",
        "False Negatives: The model is expected to miss 24% of patients who are actually sick. These \"false negatives\" are patients the model incorrectly labels as healthy.\n",
        "\n",
        "Because of the risk of false negatives (24%), this model cannot be used as a standalone diagnostic tool. It is not reliable enough to replace a human radiologist. Instead, it should be used to support a clinician's decision-making process."
      ],
      "metadata": {
        "id": "K9I-j_8KzIab"
      },
      "id": "K9I-j_8KzIab"
    },
    {
      "cell_type": "markdown",
      "id": "a90f3b36-925c-4b83-bc80-675d63493094",
      "metadata": {
        "id": "a90f3b36-925c-4b83-bc80-675d63493094"
      },
      "source": [
        "## Task 5 - Evaluation\n",
        "\n",
        "* Load the selected model ;\n",
        "* Make a full performance report (ROC curve, metrics, confusion matrices) of the selected model."
      ]
    },
    {
      "cell_type": "code",
      "execution_count": 20,
      "id": "cd7dc8c3-8ca4-47f5-97e1-ce459006a8a1",
      "metadata": {
        "id": "cd7dc8c3-8ca4-47f5-97e1-ce459006a8a1",
        "colab": {
          "base_uri": "https://localhost:8080/"
        },
        "outputId": "04fc565b-0e0c-4134-8814-e5473b9e6aac"
      },
      "outputs": [
        {
          "output_type": "stream",
          "name": "stdout",
          "text": [
            "Classification Report on the Test Set:\n",
            "              precision    recall  f1-score   support\n",
            "\n",
            "           0       0.56      0.63      0.59        54\n",
            "           1       0.67      0.60      0.64        68\n",
            "\n",
            "    accuracy                           0.61       122\n",
            "   macro avg       0.61      0.62      0.61       122\n",
            "weighted avg       0.62      0.61      0.62       122\n",
            "\n"
          ]
        }
      ],
      "source": [
        "import joblib\n",
        "from sklearn.metrics import classification_report\n",
        "\n",
        "# Load the best performing model from analysis (Random Forest with SMOTE)\n",
        "best_model = joblib.load('best_model_smote_random_forest.pkl')\n",
        "\n",
        "# Use the loaded pipeline to make predictions on the test set\n",
        "predictions = best_model.predict(X_test)\n",
        "\n",
        "# Get the detailed classification report\n",
        "print(\"Classification Report on the Test Set:\")\n",
        "print(classification_report(y_test, predictions))"
      ]
    },
    {
      "cell_type": "code",
      "execution_count": 22,
      "id": "54de2630-cb29-4fa6-a411-9685f632e316",
      "metadata": {
        "id": "54de2630-cb29-4fa6-a411-9685f632e316",
        "colab": {
          "base_uri": "https://localhost:8080/",
          "height": 487
        },
        "outputId": "4b363ceb-c8b9-4cdd-8be7-1181f578cc52"
      },
      "outputs": [
        {
          "output_type": "display_data",
          "data": {
            "text/plain": [
              "<Figure size 1100x500 with 2 Axes>"
            ],
            "image/png": "[encoded data removed]"
          },
          "metadata": {}
        }
      ],
      "source": [
        "from sklearn.metrics import DetCurveDisplay, RocCurveDisplay\n",
        "import matplotlib.pyplot as plt\n",
        "\n",
        "# Create the figure for the plots\n",
        "fig, [ax_roc, ax_det] = plt.subplots(1, 2, figsize=(11, 5))\n",
        "\n",
        "# Plot the ROC and DET curves using the best model\n",
        "RocCurveDisplay.from_estimator(best_model, X_test, y_test, ax=ax_roc, name='ROC')\n",
        "DetCurveDisplay.from_estimator(best_model, X_test, y_test, ax=ax_det, name='DET')\n",
        "\n",
        "# Set titles and grids\n",
        "ax_roc.set_title(\"Receiver Operating Characteristic (ROC) Curve\")\n",
        "ax_det.set_title(\"Detection Error Tradeoff (DET) Curve\")\n",
        "ax_roc.grid(linestyle=\"--\")\n",
        "ax_det.grid(linestyle=\"--\")\n",
        "\n",
        "# The legend is automatically handled by the display objects, so plt.legend() is not needed\n",
        "plt.show()"
      ]
    },
    {
      "cell_type": "code",
      "execution_count": 24,
      "id": "0d930e8d",
      "metadata": {
        "colab": {
          "base_uri": "https://localhost:8080/",
          "height": 472
        },
        "id": "0d930e8d",
        "outputId": "92612eec-d955-41b7-bf35-d5ce92998b29"
      },
      "outputs": [
        {
          "output_type": "display_data",
          "data": {
            "text/plain": [
              "<Figure size 640x480 with 2 Axes>"
            ],
            "image/png": "[encoded data removed]"
          },
          "metadata": {}
        }
      ],
      "source": [
        "from sklearn.metrics import confusion_matrix, ConfusionMatrixDisplay\n",
        "import matplotlib.pyplot as plt\n",
        "\n",
        "# Use the best model to predict labels for the test set\n",
        "predictions = best_model.predict(X_test)\n",
        "\n",
        "# Calculate the confusion matrix\n",
        "cm = confusion_matrix(y_test, predictions, labels=best_model.classes_)\n",
        "\n",
        "# Create the display object and plot it\n",
        "disp = ConfusionMatrixDisplay(confusion_matrix=cm,\n",
        "                              display_labels=['No Pathology', 'Pathology'])\n",
        "disp.plot(cmap=plt.cm.Blues)\n",
        "plt.title('Confusion Matrix for Best Model (on Test Set)')\n",
        "plt.show()"
      ]
    },
    {
      "cell_type": "markdown",
      "source": [
        "#Final Performance Report: Random Forest with SMOTE\n",
        "This report provides a final evaluation of the selected best-performing model, the Random Forest with SMOTE, based on its performance against the unseen test set of 122 patients. The analysis synthesizes the confusion matrix, key classification metrics, and the ROC curve to offer a complete picture of the model's clinical viability.\n",
        "\n",
        "The model's performance is detailed in the confusion matrix, which breaks down its predictions. Out of 122 cases, the model made a total of 75 correct predictions, comprising 34 True Negatives (healthy patients correctly identified) and 41 True Positives (sick patients correctly identified). However, the model also produced 47 errors. These included 20 False Positives, where healthy patients were incorrectly flagged as having a pathology, and more critically, 27 False Negatives, where sick patients were missed entirely and incorrectly classified as healthy. This high number of misses is the most significant finding from the evaluation.\n",
        "\n",
        "These counts translate into several performance metrics. Most importantly for this diagnostic task, the model achieved a recall (or sensitivity) of 60%. This means it successfully identified only 60% of all patients who had a pathology, while the remaining 40% were missed. The model's precision was 67%, indicating that when it did predict a pathology, it was correct about two-thirds of the time. Complementing the recall, the model's specificity was 63%, showing its ability to correctly identify healthy individuals. The overall accuracy was 61%. These metrics are supported by the ROC curve's Area Under the Curve (AUC) of 0.67, which signifies that the model possesses a modest, but better-than-random, ability to distinguish between sick and healthy patients.\n",
        "\n",
        "Clinical Conclusion and Recommendation\n",
        "While the model demonstrates a predictive capability superior to random chance, its performance on the test set reveals a critical weakness. The recall of 60% and the corresponding 27 false negatives are concerns in a clinical context, as missing 40% of sick patients is a high risk. Therefore, this model is not suitable for use as a standalone or primary diagnostic tool. It is best suited for deployment as a supportive screening aid for a human expert."
      ],
      "metadata": {
        "id": "L5nVF0Wb1ZXA"
      },
      "id": "L5nVF0Wb1ZXA"
    }
  ],
  "metadata": {
    "colab": {
      "provenance": []
    },
    "kernelspec": {
      "display_name": "Python 3 (ipykernel)",
      "language": "python",
      "name": "python3"
    },
    "language_info": {
      "codemirror_mode": {
        "name": "ipython",
        "version": 3
      },
      "file_extension": ".py",
      "mimetype": "text/x-python",
      "name": "python",
      "nbconvert_exporter": "python",
      "pygments_lexer": "ipython3",
      "version": "3.8.20"
    }
  },
  "nbformat": 4,
  "nbformat_minor": 5
}