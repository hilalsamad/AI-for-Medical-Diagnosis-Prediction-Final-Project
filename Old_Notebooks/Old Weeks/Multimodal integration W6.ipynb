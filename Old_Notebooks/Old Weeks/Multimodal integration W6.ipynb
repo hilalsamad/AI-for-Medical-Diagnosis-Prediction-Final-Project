{
  "nbformat": 4,
  "nbformat_minor": 0,
  "metadata": {
    "colab": {
      "provenance": [],
      "gpuType": "A100"
    },
    "kernelspec": {
      "name": "python3",
      "display_name": "Python 3"
    },
    "language_info": {
      "name": "python"
    },
    "accelerator": "GPU"
  },
  "cells": [
    {
      "cell_type": "markdown",
      "source": [
        "# Fusion Models on UCI Cleveland Heart Disease Dataset\n",
        "# Concatenation-based vs Attention-based Fusion"
      ],
      "metadata": {
        "id": "vyOX5bAWSqYh"
      }
    },
    {
      "cell_type": "code",
      "source": [
        "import random\n",
        "import numpy as np\n",
        "import pandas as pd\n",
        "from sklearn.model_selection import train_test_split\n",
        "from sklearn.preprocessing import StandardScaler\n",
        "from sklearn.metrics import roc_auc_score\n",
        "import torch\n",
        "import torch.nn as nn\n",
        "from torch.utils.data import Dataset, DataLoader"
      ],
      "metadata": {
        "id": "badgEkERTARH"
      },
      "execution_count": 1,
      "outputs": []
    },
    {
      "cell_type": "code",
      "source": [
        "def set_seed(seed=42):\n",
        "    random.seed(seed)\n",
        "    np.random.seed(seed)\n",
        "    torch.manual_seed(seed)\n",
        "    torch.cuda.manual_seed_all(seed)\n",
        "    torch.backends.cudnn.deterministic = False\n",
        "    torch.backends.cudnn.benchmark = True\n",
        "\n",
        "set_seed(42)"
      ],
      "metadata": {
        "id": "aF6NUm_eZMM9"
      },
      "execution_count": 2,
      "outputs": []
    },
    {
      "cell_type": "code",
      "source": [
        "# Load and preprocess data\n",
        "url = \"https://archive.ics.uci.edu/ml/machine-learning-databases/heart-disease/processed.cleveland.data\"\n",
        "columns = [\n",
        "    \"age\", \"sex\", \"cp\", \"trestbps\", \"chol\", \"fbs\", \"restecg\",\n",
        "    \"thalach\", \"exang\", \"oldpeak\", \"slope\", \"ca\", \"thal\", \"num\"\n",
        "]\n",
        "\n",
        "df = pd.read_csv(url, names=columns)\n",
        "df = df.replace('?', np.nan).dropna()\n",
        "df = df.apply(pd.to_numeric)\n",
        "df[\"num\"] = (df[\"num\"] > 0).astype(int)\n",
        "\n",
        "num_cols = [\"age\", \"trestbps\", \"chol\", \"thalach\", \"oldpeak\"]\n",
        "cat_cols = [\"sex\", \"cp\", \"fbs\", \"restecg\", \"exang\", \"slope\", \"ca\", \"thal\"]"
      ],
      "metadata": {
        "id": "SpAfeM97VbTH"
      },
      "execution_count": 3,
      "outputs": []
    },
    {
      "cell_type": "code",
      "source": [
        "# Safe remapping of categorical variables to 0-based indices\n",
        "for c in cat_cols:\n",
        "    uniques = sorted(df[c].dropna().unique())\n",
        "    mapping = {v: i for i, v in enumerate(uniques)}\n",
        "    df[c] = df[c].map(mapping)\n",
        "    df[c] = df[c].clip(0, len(uniques) - 1)  # avoids out-of-range errors\n",
        "\n",
        "cat_cardinalities = [df[c].nunique() for c in cat_cols]\n",
        "print(\"Cardinalities:\", cat_cardinalities)\n",
        "\n",
        "# Scale numeric features\n",
        "scaler = StandardScaler()\n",
        "X_num = scaler.fit_transform(df[num_cols])\n",
        "X_cat = df[cat_cols].astype(int).values\n",
        "y = df[\"num\"].values\n",
        "\n",
        "# Train/validation split\n",
        "Xn_train, Xn_val, Xc_train, Xc_val, y_train, y_val = train_test_split(\n",
        "    X_num, X_cat, y, test_size=0.2, stratify=y, random_state=42\n",
        ")\n",
        "\n",
        "class HeartDataset(Dataset):\n",
        "    def __init__(self, Xn, Xc, y):\n",
        "        self.Xn = torch.tensor(Xn, dtype=torch.float32)\n",
        "        self.Xc = torch.tensor(Xc, dtype=torch.long)\n",
        "        self.y = torch.tensor(y, dtype=torch.float32)\n",
        "    def __len__(self): return len(self.y)\n",
        "    def __getitem__(self, i): return self.Xn[i], self.Xc[i], self.y[i]\n",
        "\n",
        "train_loader = DataLoader(HeartDataset(Xn_train, Xc_train, y_train), batch_size=32, shuffle=True)\n",
        "val_loader = DataLoader(HeartDataset(Xn_val, Xc_val, y_val), batch_size=32, shuffle=False)"
      ],
      "metadata": {
        "colab": {
          "base_uri": "https://localhost:8080/"
        },
        "id": "-v50i1mBVk8u",
        "outputId": "03e90728-76fb-47df-d9bd-25ee812d42db"
      },
      "execution_count": 4,
      "outputs": [
        {
          "output_type": "stream",
          "name": "stdout",
          "text": [
            "Cardinalities: [2, 4, 2, 3, 2, 3, 4, 3]\n"
          ]
        }
      ]
    },
    {
      "cell_type": "code",
      "source": [
        "# Define models\n",
        "class NumericTower(nn.Module):\n",
        "    def __init__(self, in_dim, hidden=16, drop=0.30):\n",
        "        super().__init__()\n",
        "        self.net = nn.Sequential(\n",
        "            nn.Linear(in_dim, hidden),\n",
        "            nn.ReLU(),\n",
        "            nn.Dropout(drop),\n",
        "            nn.Linear(hidden, hidden),\n",
        "            nn.ReLU(),\n",
        "            nn.Dropout(drop),\n",
        "        )\n",
        "    def forward(self, x):\n",
        "        return self.net(x)\n",
        "\n",
        "class CategoricalTower(nn.Module):\n",
        "    def __init__(self, cards, emb_dim=4, hidden=16, drop=0.30):\n",
        "        super().__init__()\n",
        "        self.embs = nn.ModuleList([nn.Embedding(c, emb_dim) for c in cards])\n",
        "        self.net = nn.Sequential(\n",
        "            nn.Linear(len(cards)*emb_dim, hidden),\n",
        "            nn.ReLU(),\n",
        "            nn.Dropout(drop),\n",
        "            nn.Linear(hidden, hidden),\n",
        "            nn.ReLU(),\n",
        "            nn.Dropout(drop),\n",
        "        )\n",
        "    def forward(self, x):\n",
        "        embs = [emb(x[:, i]) for i, emb in enumerate(self.embs)]\n",
        "        h = torch.cat(embs, dim=1)\n",
        "        return self.net(h)\n",
        "\n",
        "class ConcatFusion(nn.Module):\n",
        "    def __init__(self, num_in, cards, hidden=16, drop=0.30):\n",
        "        super().__init__()\n",
        "        self.num_tower = NumericTower(num_in, hidden, drop)\n",
        "        self.cat_tower = CategoricalTower(cards, emb_dim=4, hidden=hidden, drop=drop)\n",
        "        self.head = nn.Sequential(\n",
        "            nn.Linear(2*hidden, hidden),\n",
        "            nn.ReLU(),\n",
        "            nn.Dropout(drop),\n",
        "            nn.Linear(hidden, 1),\n",
        "        )\n",
        "    def forward(self, Xn, Xc):\n",
        "        h = torch.cat([self.num_tower(Xn), self.cat_tower(Xc)], dim=1)\n",
        "        return self.head(h).squeeze(1)\n",
        "\n",
        "class AttentionFusion(nn.Module):\n",
        "    def __init__(self, num_in, cards, hidden=16, drop=0.30):\n",
        "        super().__init__()\n",
        "        self.num_tower = NumericTower(num_in, hidden, drop)\n",
        "        self.cat_tower = CategoricalTower(cards, emb_dim=4, hidden=hidden, drop=drop)\n",
        "        # attention scores per branch\n",
        "        self.score_num = nn.Linear(hidden, 1)\n",
        "        self.score_cat = nn.Linear(hidden, 1)\n",
        "        self.head = nn.Sequential(\n",
        "            nn.Linear(hidden, hidden//2),\n",
        "            nn.ReLU(),\n",
        "            nn.Dropout(drop),\n",
        "            nn.Linear(hidden//2, 1),\n",
        "        )\n",
        "    def forward(self, Xn, Xc):\n",
        "        h_num = self.num_tower(Xn)\n",
        "        h_cat = self.cat_tower(Xc)\n",
        "        scores = torch.cat([self.score_num(h_num), self.score_cat(h_cat)], dim=1)\n",
        "        attn = torch.softmax(scores, dim=1)\n",
        "        fused = attn[:, :1]*h_num + attn[:, 1:2]*h_cat\n",
        "        return self.head(fused).squeeze(1)"
      ],
      "metadata": {
        "id": "7xUXsKxbVvwf"
      },
      "execution_count": 5,
      "outputs": []
    },
    {
      "cell_type": "code",
      "source": [
        "# Train & evaluate\n",
        "def train_epoch(model, loader, opt, loss_fn, device):\n",
        "    model.train()\n",
        "    total = 0.0\n",
        "    for Xn, Xc, y in loader:\n",
        "        Xn, Xc, y = Xn.to(device), Xc.to(device), y.to(device)\n",
        "        opt.zero_grad(set_to_none=True)\n",
        "        logits = model(Xn, Xc)\n",
        "        loss = loss_fn(logits, y)\n",
        "        loss.backward()\n",
        "        opt.step()\n",
        "        total += loss.item() * y.size(0)\n",
        "    return total / len(loader.dataset)\n",
        "\n",
        "@torch.no_grad()\n",
        "def eval_auc(model, loader, device):\n",
        "    model.eval()\n",
        "    preds, labels = [], []\n",
        "    for Xn, Xc, y in loader:\n",
        "        Xn, Xc = Xn.to(device), Xc.to(device)\n",
        "        prob = torch.sigmoid(model(Xn, Xc)).cpu().numpy()\n",
        "        preds.append(prob)\n",
        "        labels.append(y.numpy())\n",
        "    preds = np.concatenate(preds)\n",
        "    labels = np.concatenate(labels)\n",
        "    return roc_auc_score(labels, preds)"
      ],
      "metadata": {
        "id": "shd0rB_oV0Q3"
      },
      "execution_count": 6,
      "outputs": []
    },
    {
      "cell_type": "code",
      "source": [
        "#Run\n",
        "device = torch.device(\"cuda\" if torch.cuda.is_available() else \"cpu\")\n",
        "print(\"Device:\", device)\n",
        "\n",
        "concat = ConcatFusion(Xn_train.shape[1], cat_cardinalities).to(device)\n",
        "attn   = AttentionFusion(Xn_train.shape[1], cat_cardinalities).to(device)\n",
        "\n",
        "loss_fn = nn.BCEWithLogitsLoss()\n",
        "opt_c = torch.optim.Adam(concat.parameters(), lr=1e-3, weight_decay=1e-3)\n",
        "opt_a = torch.optim.Adam(attn.parameters(),   lr=1e-3, weight_decay=1e-3)\n",
        "\n",
        "best_c, best_a = 0.0, 0.0\n",
        "patience, wait = 10, 0\n",
        "\n",
        "print(\"\\nTraining (dropout + weight decay + early stopping)...\\n\")\n",
        "for epoch in range(1, 201):  # up to 200; early stopping will halt sooner\n",
        "    lc = train_epoch(concat, train_loader, opt_c, loss_fn, device)\n",
        "    la = train_epoch(attn,   train_loader, opt_a, loss_fn, device)\n",
        "    auc_c = eval_auc(concat, val_loader, device)\n",
        "    auc_a = eval_auc(attn,   val_loader, device)\n",
        "    print(f\"Epoch {epoch:03d} | Concat AUC={auc_c:.3f} | Attention AUC={auc_a:.3f}\")\n",
        "\n",
        "    improved = False\n",
        "    if auc_c > best_c:\n",
        "        best_c, improved = auc_c, True\n",
        "    if auc_a > best_a:\n",
        "        best_a, improved = auc_a, True\n",
        "    if improved:\n",
        "        wait = 0\n",
        "    else:\n",
        "        wait += 1\n",
        "    if wait >= patience:\n",
        "        print(f\"Early stopping at epoch {epoch}\")\n",
        "        break"
      ],
      "metadata": {
        "colab": {
          "base_uri": "https://localhost:8080/"
        },
        "id": "4oe4aRs3Z5dp",
        "outputId": "f7c03aeb-c8df-47bb-d346-aca710dd3b5e"
      },
      "execution_count": 7,
      "outputs": [
        {
          "output_type": "stream",
          "name": "stdout",
          "text": [
            "Device: cuda\n",
            "\n",
            "Training (dropout + weight decay + early stopping)...\n",
            "\n",
            "Epoch 001 | Concat AUC=0.748 | Attention AUC=0.838\n",
            "Epoch 002 | Concat AUC=0.864 | Attention AUC=0.881\n",
            "Epoch 003 | Concat AUC=0.888 | Attention AUC=0.910\n",
            "Epoch 004 | Concat AUC=0.901 | Attention AUC=0.927\n",
            "Epoch 005 | Concat AUC=0.915 | Attention AUC=0.941\n",
            "Epoch 006 | Concat AUC=0.922 | Attention AUC=0.943\n",
            "Epoch 007 | Concat AUC=0.925 | Attention AUC=0.943\n",
            "Epoch 008 | Concat AUC=0.926 | Attention AUC=0.939\n",
            "Epoch 009 | Concat AUC=0.929 | Attention AUC=0.943\n",
            "Epoch 010 | Concat AUC=0.926 | Attention AUC=0.943\n",
            "Epoch 011 | Concat AUC=0.929 | Attention AUC=0.945\n",
            "Epoch 012 | Concat AUC=0.929 | Attention AUC=0.950\n",
            "Epoch 013 | Concat AUC=0.925 | Attention AUC=0.946\n",
            "Epoch 014 | Concat AUC=0.926 | Attention AUC=0.946\n",
            "Epoch 015 | Concat AUC=0.924 | Attention AUC=0.950\n",
            "Epoch 016 | Concat AUC=0.921 | Attention AUC=0.950\n",
            "Epoch 017 | Concat AUC=0.920 | Attention AUC=0.950\n",
            "Epoch 018 | Concat AUC=0.921 | Attention AUC=0.949\n",
            "Epoch 019 | Concat AUC=0.922 | Attention AUC=0.949\n",
            "Epoch 020 | Concat AUC=0.924 | Attention AUC=0.949\n",
            "Epoch 021 | Concat AUC=0.926 | Attention AUC=0.949\n",
            "Epoch 022 | Concat AUC=0.927 | Attention AUC=0.949\n",
            "Early stopping at epoch 22\n"
          ]
        }
      ]
    },
    {
      "cell_type": "code",
      "source": [
        "# Compare\n",
        "print(\"\\n=== FINAL VALIDATION AUC (Best During Training) ===\")\n",
        "print(f\"Concatenation Fusion: {best_c:.3f}\")\n",
        "print(f\"Attention Fusion    : {best_a:.3f}\")\n",
        "\n",
        "if best_a > best_c:\n",
        "    print(\"\\nAttention-based fusion generalized better, likely due to adaptive weighting of numeric vs categorical branches plus regularization.\")\n",
        "elif best_c > best_a:\n",
        "    print(\"\\nConcatenation-based fusion performed better, suggesting simple joint representations were sufficient under stronger regularization.\")\n",
        "else:\n",
        "    print(\"\\nBoth fusion strategies performed similarly under regularization.\")"
      ],
      "metadata": {
        "colab": {
          "base_uri": "https://localhost:8080/"
        },
        "id": "QFsq_PAOWADH",
        "outputId": "414adcf5-383b-4420-98ca-16afa00e4e8b"
      },
      "execution_count": 8,
      "outputs": [
        {
          "output_type": "stream",
          "name": "stdout",
          "text": [
            "\n",
            "=== FINAL VALIDATION AUC (Best During Training) ===\n",
            "Concatenation Fusion: 0.929\n",
            "Attention Fusion    : 0.950\n",
            "\n",
            "Attention-based fusion generalized better, likely due to adaptive weighting of numeric vs categorical branches plus regularization.\n"
          ]
        }
      ]
    },
    {
      "cell_type": "code",
      "source": [
        "from sklearn.metrics import roc_curve\n",
        "import matplotlib.pyplot as plt\n",
        "\n",
        "@torch.no_grad()\n",
        "def get_preds(model, loader, device):\n",
        "    model.eval()\n",
        "    preds, labels = [], []\n",
        "    for Xn, Xc, y in loader:\n",
        "        Xn, Xc = Xn.to(device), Xc.to(device)\n",
        "        out = torch.sigmoid(model(Xn, Xc))\n",
        "        preds.append(out.cpu().numpy())\n",
        "        labels.append(y.numpy())\n",
        "    preds, labels = np.concatenate(preds), np.concatenate(labels)\n",
        "    return labels, preds\n",
        "\n",
        "# Compute ROC data\n",
        "y_true_c, y_pred_c = get_preds(concat, val_loader, device)\n",
        "y_true_a, y_pred_a = get_preds(attn, val_loader, device)\n",
        "fpr_c, tpr_c, _ = roc_curve(y_true_c, y_pred_c)\n",
        "fpr_a, tpr_a, _ = roc_curve(y_true_a, y_pred_a)\n",
        "\n",
        "# Plot ROC curves\n",
        "plt.figure(figsize=(6,5))\n",
        "plt.plot(fpr_c, tpr_c, label=f'ConcatFusion (AUC={best_c:.3f})')\n",
        "plt.plot(fpr_a, tpr_a, label=f'AttentionFusion (AUC={best_a:.3f})')\n",
        "plt.plot([0,1],[0,1],'k--')\n",
        "plt.xlabel('False Positive Rate')\n",
        "plt.ylabel('True Positive Rate')\n",
        "plt.title('ROC Curves – Fusion Strategies')\n",
        "plt.legend()\n",
        "plt.grid(True)\n",
        "plt.show()"
      ],
      "metadata": {
        "colab": {
          "base_uri": "https://localhost:8080/",
          "height": 487
        },
        "id": "vCqSDt57WbG3",
        "outputId": "123bcb7f-8d8c-470e-ec66-5d437bc740d2"
      },
      "execution_count": 9,
      "outputs": [
        {
          "output_type": "display_data",
          "data": {
            "text/plain": [
              "<Figure size 600x500 with 1 Axes>"
            ],
            "image/png": "[encoded data removed]"
          },
          "metadata": {}
        }
      ]
    },
    {
      "cell_type": "markdown",
      "source": [
        "Both fusion strategies achieved high predictive performance on the validation set, showing the effectiveness of combining structured and categorical information for heart disease classification.\n",
        "\n",
        "The attention-based fusion model outperformed the concatenation-based model, with a higher validation AUC, indicating better generalization. This improvement is due to the attention mechanism’s ability to weight the contributions of numeric and categorical feature representations, allowing the model to use the most informative modality for each sample.\n",
        "\n",
        "The concatenation-based model treats all feature embeddings equally, which limits its capacity to capture feature interactions.\n",
        "\n",
        "In conclusion, the attention-based fusion provided a better integration of multimodal data, leading to superior validation performance."
      ],
      "metadata": {
        "id": "4Nqg7j-lWqLu"
      }
    }
  ]
}